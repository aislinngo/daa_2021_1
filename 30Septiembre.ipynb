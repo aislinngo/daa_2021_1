{
  "nbformat": 4,
  "nbformat_minor": 0,
  "metadata": {
    "colab": {
      "name": "30Septiembre.ipynb",
      "provenance": [],
      "authorship_tag": "ABX9TyNUuR7c/xM4aiGlTQRILV9B",
      "include_colab_link": true
    },
    "kernelspec": {
      "name": "python3",
      "display_name": "Python 3"
    }
  },
  "cells": [
    {
      "cell_type": "markdown",
      "metadata": {
        "id": "view-in-github",
        "colab_type": "text"
      },
      "source": [
        "<a href=\"https://colab.research.google.com/github/aislinngo/daa_2021_1/blob/master/30Septiembre.ipynb\" target=\"_parent\"><img src=\"https://colab.research.google.com/assets/colab-badge.svg\" alt=\"Open In Colab\"/></a>"
      ]
    },
    {
      "cell_type": "markdown",
      "metadata": {
        "id": "VWkGjUa1QYaI"
      },
      "source": [
        "# Palíndromos\n",
        "\n",
        "Es una palabra que se lee, de igual forma de un sentido y de un sentido inverso, ejemplo:\n",
        "1. sugus\n",
        "1. oso\n",
        "1. reconocer\n",
        "1. 10101\n",
        "1. 10:01\n",
        "etc.\n",
        "\n",
        "### Planteamiento del problema:\n",
        "Se desea encontrar todos los problemas que existen en la franja horario de un día completo, tomando como horario inicial las 00:00 y como horario final las 23:59 horas.\n",
        "\n",
        "El algoritmo debe mostrar en pantalla todos los palíndromos existentes en ese rango, al final debe mostrar el conteo del total de palíndromos existentes.\n",
        "\n"
      ]
    },
    {
      "cell_type": "code",
      "metadata": {
        "id": "9s7j3V3EQ3OV",
        "outputId": "3c7f6200-b7ea-4b26-b7de-f9c49ff4cd2a",
        "colab": {
          "base_uri": "https://localhost:8080/",
          "height": 442
        }
      },
      "source": [
        "#Contador de palíndromos\n",
        "contador=0\n",
        "lista=[]\n",
        "for hora in range(0, 24, 1):\n",
        "  for min in range(0,60, 1):\n",
        "    if hora < 10:\n",
        "      if min < 10:\n",
        "        lista.append(\"0\" + str(hora)+ \"0\" + str(min))\n",
        "      else:\n",
        "        lista.append(\"0\" +str(hora) + \":\" +str(min))\n",
        "    else:\n",
        "     if hora > 10:\n",
        "       if min < 10:\n",
        "         lista.append(str(hora) + \":\" + str(min))\n",
        "       else:\n",
        "           lista.append(str(hora) + \":\" + str(min))\n",
        "\n",
        "    if (hora == min):\n",
        "      print (\"{}:{}\".format(hora, min))\n",
        "      contador +=1\n",
        "print(\"Contador de palíndromos: {}\".format(contador))\n",
        "\n",
        "           \n",
        "\n",
        "   "
      ],
      "execution_count": 56,
      "outputs": [
        {
          "output_type": "stream",
          "text": [
            "0:0\n",
            "1:1\n",
            "2:2\n",
            "3:3\n",
            "4:4\n",
            "5:5\n",
            "6:6\n",
            "7:7\n",
            "8:8\n",
            "9:9\n",
            "10:10\n",
            "11:11\n",
            "12:12\n",
            "13:13\n",
            "14:14\n",
            "15:15\n",
            "16:16\n",
            "17:17\n",
            "18:18\n",
            "19:19\n",
            "20:20\n",
            "21:21\n",
            "22:22\n",
            "23:23\n",
            "Contador de palíndromos: 24\n"
          ],
          "name": "stdout"
        }
      ]
    }
  ]
}