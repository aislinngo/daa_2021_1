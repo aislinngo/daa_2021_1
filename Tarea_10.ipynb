{
  "nbformat": 4,
  "nbformat_minor": 0,
  "metadata": {
    "colab": {
      "name": "Tarea 10.ipynb",
      "provenance": [],
      "authorship_tag": "ABX9TyNJ+d2oCeRFm3bipG5QetL1",
      "include_colab_link": true
    },
    "kernelspec": {
      "name": "python3",
      "display_name": "Python 3"
    }
  },
  "cells": [
    {
      "cell_type": "markdown",
      "metadata": {
        "id": "view-in-github",
        "colab_type": "text"
      },
      "source": [
        "<a href=\"https://colab.research.google.com/github/aislinngo/daa_2021_1/blob/master/Tarea_10.ipynb\" target=\"_parent\"><img src=\"https://colab.research.google.com/assets/colab-badge.svg\" alt=\"Open In Colab\"/></a>"
      ]
    },
    {
      "cell_type": "code",
      "metadata": {
        "colab": {
          "base_uri": "https://localhost:8080/"
        },
        "id": "lkrPZ-dDLQ3b",
        "outputId": "926bfd0a-d371-427b-9cab-43e8b1d19cc8"
      },
      "source": [
        "class NodoArbol:\r\n",
        "  def __init__( self, value, left = None, right = None ):\r\n",
        "    self.data = value\r\n",
        "    self.left = left\r\n",
        "    self.right = right\r\n",
        "    self.ban = 0\r\n",
        "\r\n",
        "def recorrido(arb):\r\n",
        "    mov = []\r\n",
        "    bandera = 0\r\n",
        "    lista1 =[]\r\n",
        "    lista2 =[]\r\n",
        "    \r\n",
        "    while bandera == 0:\r\n",
        "        bandera2 = 0\r\n",
        "        aux = arb\r\n",
        "\r\n",
        "        for i in mov:\r\n",
        "            if i ==\"L\":\r\n",
        "                aux=aux.left\r\n",
        "            if i == \"R\":\r\n",
        "                aux=aux.right \r\n",
        "\r\n",
        "        if len(mov) == 0 and arb.left.ban == 1 and arb.right.ban == 1:\r\n",
        "            bandera = 1\r\n",
        "        if len(mov) == 0 and arb.left == None and arb.right == None:\r\n",
        "            bandera = 1\r\n",
        "        if aux.left!=None and aux.left.ban==0 and bandera2==0:\r\n",
        "            aux = aux.left\r\n",
        "            aux.ban = 1\r\n",
        "            mov.append(\"L\")\r\n",
        "            bandera2 = 1\r\n",
        "        if aux.right != None and aux.right.ban == 0 and bandera2 == 0:\r\n",
        "            aux = aux.right\r\n",
        "            aux.ban = 1\r\n",
        "            mov.append(\"R\")\r\n",
        "            bandera2 = 1\r\n",
        "        if aux.right==None and aux.left==None:\r\n",
        "            lista1.append(aux.data)\r\n",
        "            lista2.append(len(mov))\r\n",
        "            mov.pop()\r\n",
        "        if aux.left != None and aux.right != None and aux != arb:\r\n",
        "            if aux.left.ban == 1 and aux.right.ban == 1:\r\n",
        "                mov.pop()\r\n",
        "        if aux.right != None:        \r\n",
        "            if aux.left == None and aux.right.ban == 1:\r\n",
        "                mov.pop()\r\n",
        "        if aux.left != None:\r\n",
        "            if aux.left.ban == 1 and aux.right == None:\r\n",
        "                mov.pop()\r\n",
        "    for i in range(len(lista2)-1):\r\n",
        "      for j in range(i):\r\n",
        "        if lista2[j]>lista2[j+1]:\r\n",
        "          aux = lista1[j]\r\n",
        "          lista1[j] = lista1[j+1]\r\n",
        "          lista1[j+1] = aux\r\n",
        "          aux2 = lista2[j]\r\n",
        "          lista2[j] = lista2[j+1]\r\n",
        "          lista2[j+1] = aux2\r\n",
        "    print(\"..............\")\r\n",
        "    for i in range(len(lista2)):\r\n",
        "      if lista2[i] == lista2[len(lista2)-1]:\r\n",
        "        print(\"Nodo\",lista1[i],\"en el nivel\",lista2[i])\r\n",
        "    print(\"..............\")  \r\n",
        "\r\n",
        "print(\"Primer Árbol\") \r\n",
        "arbol = NodoArbol(\"One Direction\", NodoArbol(\"Niall\", NodoArbol(\"Harry\"), NodoArbol(\"Louis\")), NodoArbol(\"Zayn\", NodoArbol(\"Liam\")))\r\n",
        "recorrido(arbol)  \r\n",
        "\r\n",
        "print(\"Segundo Árbol\")\r\n",
        "arbol2 = NodoArbol(\"Azul\", NodoArbol(\"Verde\", NodoArbol(\"Morado\"), NodoArbol(\"Gris\")), NodoArbol(\"Café\", NodoArbol(\"Rojo\"), NodoArbol(\"Amarillo\", NodoArbol(\"Dorado\", NodoArbol(\"Rosa\")))))\r\n",
        "recorrido(arbol2)\r\n",
        "\r\n",
        "print(\"Tercer Árbol\")\r\n",
        "arbol3 = NodoArbol(\"1\", NodoArbol(\"2\", NodoArbol(\"3\"), NodoArbol(\"4\", NodoArbol(\"5\"), NodoArbol(\"11\", NodoArbol(\"16\")))), NodoArbol(\"8\", None, NodoArbol(\"9\", NodoArbol(\"772\", NodoArbol(\"245\")))))\r\n",
        "recorrido(arbol3)\r\n",
        "\r\n",
        "print(\"Cuarto Árbol\")\r\n",
        "arbol4 = NodoArbol(\"L\", NodoArbol(\"Z\", NodoArbol(\"Ñ\", NodoArbol(None, NodoArbol(\"B\"))), NodoArbol(\"O\")), NodoArbol(\"T\", NodoArbol(\"B\", NodoArbol(\"H\",NodoArbol(\"R\"))),NodoArbol(\"Y\",NodoArbol(\"R\"),NodoArbol(\"G\", NodoArbol(\"A\"), NodoArbol(\"N\")))))\r\n",
        "recorrido(arbol4)\r\n",
        "        \r\n",
        "            "
      ],
      "execution_count": 44,
      "outputs": [
        {
          "output_type": "stream",
          "text": [
            "Primer Árbol\n",
            "..............\n",
            "Nodo Harry en el nivel 2\n",
            "Nodo Louis en el nivel 2\n",
            "Nodo Liam en el nivel 2\n",
            "..............\n",
            "Segundo Árbol\n",
            "..............\n",
            "Nodo Rosa en el nivel 4\n",
            "..............\n",
            "Tercer Árbol\n",
            "..............\n",
            "Nodo 16 en el nivel 4\n",
            "Nodo 245 en el nivel 4\n",
            "..............\n",
            "Cuarto Árbol\n",
            "..............\n",
            "Nodo B en el nivel 4\n",
            "Nodo R en el nivel 4\n",
            "Nodo A en el nivel 4\n",
            "Nodo N en el nivel 4\n",
            "..............\n"
          ],
          "name": "stdout"
        }
      ]
    }
  ]
}