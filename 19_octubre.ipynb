{
  "nbformat": 4,
  "nbformat_minor": 0,
  "metadata": {
    "colab": {
      "name": "19 octubre.ipynb",
      "provenance": [],
      "authorship_tag": "ABX9TyOd587h7Ctmqa0Ti9XLBU1e",
      "include_colab_link": true
    },
    "kernelspec": {
      "name": "python3",
      "display_name": "Python 3"
    }
  },
  "cells": [
    {
      "cell_type": "markdown",
      "metadata": {
        "id": "view-in-github",
        "colab_type": "text"
      },
      "source": [
        "<a href=\"https://colab.research.google.com/github/aislinngo/daa_2021_1/blob/master/19_octubre.ipynb\" target=\"_parent\"><img src=\"https://colab.research.google.com/assets/colab-badge.svg\" alt=\"Open In Colab\"/></a>"
      ]
    },
    {
      "cell_type": "code",
      "metadata": {
        "id": "5dmPKuTyOX6-",
        "outputId": "d03d619a-fb39-4000-b0b1-2e9acef13678",
        "colab": {
          "base_uri": "https://localhost:8080/",
          "height": 272
        }
      },
      "source": [
        "a2d=[[3,2,1],\n",
        "      [6,4,8],\n",
        "      [7,4,2]]\n",
        "\n",
        "n=3\n",
        "print (a2d)\n",
        "\n",
        "total=0 #1\n",
        "print (\"nivel 1\")\n",
        "\n",
        "for ren in range(n):\n",
        "    sumaRenglon = 0\n",
        "    print(\"nivel 2\")\n",
        "    for col in range(n):\n",
        "        sumaRenglon+= a2d[ren][col]\n",
        "        total+= a2d[ren][col]\n",
        "        print (\"nivel 3\")\n",
        "print (total)\n",
        "\n",
        "\n"
      ],
      "execution_count": 1,
      "outputs": [
        {
          "output_type": "stream",
          "text": [
            "[[3, 2, 1], [6, 4, 8], [7, 4, 2]]\n",
            "nivel 1\n",
            "nivel 2\n",
            "nivel 3\n",
            "nivel 3\n",
            "nivel 3\n",
            "nivel 2\n",
            "nivel 3\n",
            "nivel 3\n",
            "nivel 3\n",
            "nivel 2\n",
            "nivel 3\n",
            "nivel 3\n",
            "nivel 3\n",
            "37\n"
          ],
          "name": "stdout"
        }
      ]
    }
  ]
}