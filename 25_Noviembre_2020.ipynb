{
  "nbformat": 4,
  "nbformat_minor": 0,
  "metadata": {
    "colab": {
      "name": "25 Noviembre 2020.ipynb",
      "provenance": [],
      "authorship_tag": "ABX9TyPecmwGRssQw9Knm5QiJTWR",
      "include_colab_link": true
    },
    "kernelspec": {
      "name": "python3",
      "display_name": "Python 3"
    }
  },
  "cells": [
    {
      "cell_type": "markdown",
      "metadata": {
        "id": "view-in-github",
        "colab_type": "text"
      },
      "source": [
        "<a href=\"https://colab.research.google.com/github/aislinngo/daa_2021_1/blob/master/25_Noviembre_2020.ipynb\" target=\"_parent\"><img src=\"https://colab.research.google.com/assets/colab-badge.svg\" alt=\"Open In Colab\"/></a>"
      ]
    },
    {
      "cell_type": "code",
      "metadata": {
        "colab": {
          "base_uri": "https://localhost:8080/"
        },
        "id": "5LmNZ6DY6ehb",
        "outputId": "bd1c9684-bca0-46cf-b620-5afd132e56c2"
      },
      "source": [
        "frase= \"\"\"El lema que anima a la Universidad Nacional, Por mi raza hablará el espíritu, revela la vocación humanística con la que fue concebida. El autor de esta célebre frase, José Vasconcelos, asumió la rectoría en 1920, en una época en que las esperanzas de la Revolución aún estaban vivas,\n",
        " había una gran fé en la Patria y el ánimo redentor se extendía en el ambiente.\"\"\"\n",
        "\n",
        "frase = frase.strip().replace(\"\\n\", \" \").replace(\",\",\" \").replace(\".\",\"\").lower().split(\" \")\n",
        "print (frase)\n",
        "frecuencias= {}\n",
        "for index in range (len(frase)):\n",
        "    if frase[index] in frecuencias: #'el' in frecuencias:\n",
        "        pass\n",
        "    else: \n",
        "        frecuencias[frase[index]] =  1\n",
        "\n",
        "    for pivote in range (index +1, len(frase),1):\n",
        "       # print (frase[index], \"Comparada contra: \", frase[ pivote ])\n",
        "       if frase [index] == frase[pivote]:\n",
        "           frecuencias[frase[index]] += 1\n",
        "\n",
        "print (frecuencias)\n",
        "        \n"
      ],
      "execution_count": 4,
      "outputs": [
        {
          "output_type": "stream",
          "text": [
            "['el', 'lema', 'que', 'anima', 'a', 'la', 'universidad', 'nacional', '', 'por', 'mi', 'raza', 'hablará', 'el', 'espíritu', '', 'revela', 'la', 'vocación', 'humanística', 'con', 'la', 'que', 'fue', 'concebida', 'el', 'autor', 'de', 'esta', 'célebre', 'frase', '', 'josé', 'vasconcelos', '', 'asumió', 'la', 'rectoría', 'en', '1920', '', 'en', 'una', 'época', 'en', 'que', 'las', 'esperanzas', 'de', 'la', 'revolución', 'aún', 'estaban', 'vivas', '', '', 'había', 'una', 'gran', 'fé', 'en', 'la', 'patria', 'y', 'el', 'ánimo', 'redentor', 'se', 'extendía', 'en', 'el', 'ambiente']\n",
            "{'el': 11, 'lema': 1, 'que': 4, 'anima': 1, 'a': 1, 'la': 16, 'universidad': 1, 'nacional': 1, '': 22, 'por': 1, 'mi': 1, 'raza': 1, 'hablará': 1, 'espíritu': 1, 'revela': 1, 'vocación': 1, 'humanística': 1, 'con': 1, 'fue': 1, 'concebida': 1, 'autor': 1, 'de': 2, 'esta': 1, 'célebre': 1, 'frase': 1, 'josé': 1, 'vasconcelos': 1, 'asumió': 1, 'rectoría': 1, 'en': 11, '1920': 1, 'una': 2, 'época': 1, 'las': 1, 'esperanzas': 1, 'revolución': 1, 'aún': 1, 'estaban': 1, 'vivas': 1, 'había': 1, 'gran': 1, 'fé': 1, 'patria': 1, 'y': 1, 'ánimo': 1, 'redentor': 1, 'se': 1, 'extendía': 1, 'ambiente': 1}\n"
          ],
          "name": "stdout"
        }
      ]
    },
    {
      "cell_type": "code",
      "metadata": {
        "colab": {
          "base_uri": "https://localhost:8080/"
        },
        "id": "whituf0hFqS9",
        "outputId": "357634d3-03f8-42df-d577-78e7fe9e1c94"
      },
      "source": [
        "frase= \"\"\"El lema que anima a la Universidad Nacional, Por mi raza hablará el espíritu, revela la vocación humanística con la que fue concebida. El autor de esta célebre frase, José Vasconcelos, asumió la rectoría en 1920, en una época en que las esperanzas de la Revolución aún estaban vivas,\n",
        " había una gran fé en la Patria y el ánimo redentor se extendía en el ambiente.\"\"\"\n",
        "\n",
        "frase = frase.strip().replace(\"\\n\", \" \").replace(\",\",\" \").replace(\".\",\"\").lower().split(\" \")\n",
        "print(frase)\n",
        "frecuencias= {}\n",
        "for index in range (len(frase)):\n",
        "    print(hash(frase[index]))\n",
        "    if frase [index] in frecuencias:\n",
        "        frecuencias [frase[index]] += 1\n",
        "    else: \n",
        "        frecuencias [frase[index]] = 1\n",
        "print(frecuencias)\n"
      ],
      "execution_count": 12,
      "outputs": [
        {
          "output_type": "stream",
          "text": [
            "['el', 'lema', 'que', 'anima', 'a', 'la', 'universidad', 'nacional', '', 'por', 'mi', 'raza', 'hablará', 'el', 'espíritu', '', 'revela', 'la', 'vocación', 'humanística', 'con', 'la', 'que', 'fue', 'concebida', 'el', 'autor', 'de', 'esta', 'célebre', 'frase', '', 'josé', 'vasconcelos', '', 'asumió', 'la', 'rectoría', 'en', '1920', '', 'en', 'una', 'época', 'en', 'que', 'las', 'esperanzas', 'de', 'la', 'revolución', 'aún', 'estaban', 'vivas', '', '', 'había', 'una', 'gran', 'fé', 'en', 'la', 'patria', 'y', 'el', 'ánimo', 'redentor', 'se', 'extendía', 'en', 'el', 'ambiente']\n",
            "-2847287619503309980\n",
            "2455212697751182009\n",
            "4235826614704361125\n",
            "-3041597374023433223\n",
            "8491618196503766128\n",
            "-5118376150426273566\n",
            "-6519127851622797410\n",
            "6824787253604514925\n",
            "0\n",
            "-4488045303030355702\n",
            "-5150523342321305762\n",
            "6732169823442239247\n",
            "-8562968035344435197\n",
            "-2847287619503309980\n",
            "-7263897455587681681\n",
            "0\n",
            "4512415922700823519\n",
            "-5118376150426273566\n",
            "7592690338293772135\n",
            "-418228238526516504\n",
            "-1368275503712159226\n",
            "-5118376150426273566\n",
            "4235826614704361125\n",
            "-1875709913486986189\n",
            "7174300248138677210\n",
            "-2847287619503309980\n",
            "8027294229199851172\n",
            "-8538823531019947869\n",
            "6567674806119717734\n",
            "610405332404124934\n",
            "3872865297652455921\n",
            "0\n",
            "5051807990655217154\n",
            "-4722672384094276963\n",
            "0\n",
            "737565591358059365\n",
            "-5118376150426273566\n",
            "5010140133340818153\n",
            "8217960430456338795\n",
            "4419578593193261452\n",
            "0\n",
            "8217960430456338795\n",
            "-7926450121185643124\n",
            "-665000570918226267\n",
            "8217960430456338795\n",
            "4235826614704361125\n",
            "-7917009265638260367\n",
            "-7378879103271139396\n",
            "-8538823531019947869\n",
            "-5118376150426273566\n",
            "9090027091725333812\n",
            "-3585794783564227973\n",
            "-7567494780073125640\n",
            "-5303453526268516563\n",
            "0\n",
            "0\n",
            "2173421658557939309\n",
            "-7926450121185643124\n",
            "-1921224692318778817\n",
            "8661226578344310289\n",
            "8217960430456338795\n",
            "-5118376150426273566\n",
            "7665119104731279664\n",
            "-178119425118898917\n",
            "-2847287619503309980\n",
            "4412871149014987494\n",
            "-8996314944611371566\n",
            "-4995266292828704892\n",
            "9022027345530094262\n",
            "8217960430456338795\n",
            "-2847287619503309980\n",
            "12268211141445578\n",
            "{'el': 5, 'lema': 1, 'que': 3, 'anima': 1, 'a': 1, 'la': 6, 'universidad': 1, 'nacional': 1, '': 7, 'por': 1, 'mi': 1, 'raza': 1, 'hablará': 1, 'espíritu': 1, 'revela': 1, 'vocación': 1, 'humanística': 1, 'con': 1, 'fue': 1, 'concebida': 1, 'autor': 1, 'de': 2, 'esta': 1, 'célebre': 1, 'frase': 1, 'josé': 1, 'vasconcelos': 1, 'asumió': 1, 'rectoría': 1, 'en': 5, '1920': 1, 'una': 2, 'época': 1, 'las': 1, 'esperanzas': 1, 'revolución': 1, 'aún': 1, 'estaban': 1, 'vivas': 1, 'había': 1, 'gran': 1, 'fé': 1, 'patria': 1, 'y': 1, 'ánimo': 1, 'redentor': 1, 'se': 1, 'extendía': 1, 'ambiente': 1}\n"
          ],
          "name": "stdout"
        }
      ]
    },
    {
      "cell_type": "code",
      "metadata": {
        "colab": {
          "base_uri": "https://localhost:8080/"
        },
        "id": "laOu8E60_Q3s",
        "outputId": "63e416b9-cd67-46bf-a484-59e810f64487"
      },
      "source": [
        "# función hash o de dispersión - Es una función matemática '\n",
        "palabra = 'hola'\n",
        "print ( hash(palabra) )\n",
        "palabra = 'hole'\n",
        "print ( hash(palabra) )"
      ],
      "execution_count": 6,
      "outputs": [
        {
          "output_type": "stream",
          "text": [
            "-8634519454815921568\n",
            "909052739573695349\n"
          ],
          "name": "stdout"
        }
      ]
    }
  ]
}