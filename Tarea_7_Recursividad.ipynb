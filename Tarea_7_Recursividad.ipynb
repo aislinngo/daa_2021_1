{
  "nbformat": 4,
  "nbformat_minor": 0,
  "metadata": {
    "colab": {
      "name": "Tarea 7: Recursividad.ipynb",
      "provenance": [],
      "authorship_tag": "ABX9TyPlA6cd7wMqH1NUIusLj5mJ",
      "include_colab_link": true
    },
    "kernelspec": {
      "name": "python3",
      "display_name": "Python 3"
    }
  },
  "cells": [
    {
      "cell_type": "markdown",
      "metadata": {
        "id": "view-in-github",
        "colab_type": "text"
      },
      "source": [
        "<a href=\"https://colab.research.google.com/github/aislinngo/daa_2021_1/blob/master/Tarea_7_Recursividad.ipynb\" target=\"_parent\"><img src=\"https://colab.research.google.com/assets/colab-badge.svg\" alt=\"Open In Colab\"/></a>"
      ]
    },
    {
      "cell_type": "code",
      "metadata": {
        "colab": {
          "base_uri": "https://localhost:8080/"
        },
        "id": "9-9s9PV1ehpq",
        "outputId": "5482f9f8-69cc-40d6-fb9a-715bf6968c87"
      },
      "source": [
        "# 1. Crear una lista de enteros en Python y realizar la suma con recursividad, el caso base es cuando la lista este vacía.\n",
        "\n",
        "x=[0, 1, 2, 3, 4, 5, 6, 7, 8, 9, 10]\n",
        "\n",
        "def suma(x,i,s):\n",
        "    \n",
        "    if i<len(x):\n",
        "        s = s + x[ i ]\n",
        "        suma(x,i+1,s)\n",
        "    if i == len( x )-1:\n",
        "        print(s)\n",
        "\n",
        "suma(x,0,0)"
      ],
      "execution_count": 11,
      "outputs": [
        {
          "output_type": "stream",
          "text": [
            "55\n"
          ],
          "name": "stdout"
        }
      ]
    },
    {
      "cell_type": "code",
      "metadata": {
        "colab": {
          "base_uri": "https://localhost:8080/"
        },
        "id": "3aOUKXClezrt",
        "outputId": "1ff5e430-9adf-4fe9-8eef-f5555aeb580e"
      },
      "source": [
        "# 2. Hacer un contador regresivo con recursión.\n",
        "\n",
        "def contador( i ):\n",
        "    if i > 0:\n",
        "        print( i )\n",
        "        contador(   i - 1 )\n",
        "n= 20\n",
        "print(\"N= \", n)\n",
        "\n",
        "contador( 20 )"
      ],
      "execution_count": 9,
      "outputs": [
        {
          "output_type": "stream",
          "text": [
            "N=  20\n",
            "20\n",
            "19\n",
            "18\n",
            "17\n",
            "16\n",
            "15\n",
            "14\n",
            "13\n",
            "12\n",
            "11\n",
            "10\n",
            "9\n",
            "8\n",
            "7\n",
            "6\n",
            "5\n",
            "4\n",
            "3\n",
            "2\n",
            "1\n"
          ],
          "name": "stdout"
        }
      ]
    },
    {
      "cell_type": "code",
      "metadata": {
        "colab": {
          "base_uri": "https://localhost:8080/"
        },
        "id": "yDhHchEIe3-6",
        "outputId": "1680ec2c-52e6-4e27-cca3-56e1dd50c258"
      },
      "source": [
        "# 3. Sacar de un ADT pila el valor en la posición media\n",
        "\n",
        "class Stack:\n",
        "  def __init__(self):\n",
        "    self.__datos=[]\n",
        "  def is_empty(self):\n",
        "    return len(self.__datos)==0\n",
        "  def get_top(self):\n",
        "    return self.__datos[-1]\n",
        "  def pop(self):\n",
        "    return self.__datos.pop()\n",
        "  def push(self,valor):\n",
        "    self.__datos.append(valor)\n",
        "  def get_length(self):\n",
        "    return len(self.__datos)\n",
        "  def to_string(self):\n",
        "    print(\"----------------\")\n",
        "    for i in self.__datos[-1::-1]:\n",
        "      print(i)\n",
        "    print(\"----------------\")\n",
        "    print()\n",
        "\n",
        "\n",
        "def medio(pila,m,i,a):\n",
        "    bandera=0\n",
        "    if m>i:\n",
        "        a=pila.pop()\n",
        "        i+=1\n",
        "        medio(pila,m,i,a)\n",
        "    if m==i:\n",
        "        pila.pop()\n",
        "    pila.push(a)\n",
        "\n",
        "pila=Stack()\n",
        "pila.push(0)\n",
        "pila.push(1)\n",
        "pila.push(3)\n",
        "pila.push(5)\n",
        "pila.push(25)\n",
        "pila.push(30)\n",
        "pila.push(35)\n",
        "pila.push(40)\n",
        "pila.push(45)\n",
        "pila.push(50)\n",
        "\n",
        "print(\"Elementos de la pila: \")\n",
        "\n",
        "m=pila.get_length()//2\n",
        "pila.to_string()\n",
        "medio(pila,m,0,0)\n",
        "print(\"Pila sin punto medio: \")\n",
        "pila.to_string()"
      ],
      "execution_count": 7,
      "outputs": [
        {
          "output_type": "stream",
          "text": [
            "Elementos de la pila: \n",
            "----------------\n",
            "50\n",
            "45\n",
            "40\n",
            "35\n",
            "30\n",
            "25\n",
            "5\n",
            "3\n",
            "1\n",
            "0\n",
            "----------------\n",
            "\n",
            "Pila sin punto medio: \n",
            "----------------\n",
            "50\n",
            "45\n",
            "40\n",
            "35\n",
            "30\n",
            "5\n",
            "3\n",
            "1\n",
            "0\n",
            "----------------\n",
            "\n"
          ],
          "name": "stdout"
        }
      ]
    }
  ]
}