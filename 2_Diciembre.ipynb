{
  "nbformat": 4,
  "nbformat_minor": 0,
  "metadata": {
    "colab": {
      "name": "2 Diciembre.ipynb",
      "provenance": [],
      "authorship_tag": "ABX9TyOUQAbqWGJsnGGx56AscNOt",
      "include_colab_link": true
    },
    "kernelspec": {
      "display_name": "Python 3",
      "name": "python3"
    }
  },
  "cells": [
    {
      "cell_type": "markdown",
      "metadata": {
        "id": "view-in-github",
        "colab_type": "text"
      },
      "source": [
        "<a href=\"https://colab.research.google.com/github/aislinngo/daa_2021_1/blob/master/2_Diciembre.ipynb\" target=\"_parent\"><img src=\"https://colab.research.google.com/assets/colab-badge.svg\" alt=\"Open In Colab\"/></a>"
      ]
    },
    {
      "cell_type": "code",
      "metadata": {
        "id": "Bo3kqcd6A8hj"
      },
      "source": [
        "def fnRecInfinita():\n",
        "    print(\"Hola\")\n",
        "    fnRecInfinita()"
      ],
      "execution_count": null,
      "outputs": []
    },
    {
      "cell_type": "code",
      "metadata": {
        "id": "b-tGP8dgA_N2"
      },
      "source": [
        ""
      ],
      "execution_count": null,
      "outputs": []
    },
    {
      "cell_type": "code",
      "metadata": {
        "colab": {
          "base_uri": "https://localhost:8080/"
        },
        "id": "jZ5O6ER3BARQ",
        "outputId": "57492018-db3d-49c6-e46c-0d36cc5e7a9b"
      },
      "source": [
        "def fnRec( x ):\n",
        "    if x == 0:\n",
        "        print(\"Stop\")\n",
        "    else:\n",
        "        print( x )\n",
        "        fnRec( x-1 )\n",
        "def main():\n",
        "    print(\"Inicio del programa\")\n",
        "    fnRec( 5 )\n",
        "    print(\"Fin\")\n",
        "    \n",
        "main()"
      ],
      "execution_count": 13,
      "outputs": [
        {
          "output_type": "stream",
          "text": [
            "Inicio del programa\n",
            "5\n",
            "4\n",
            "3\n",
            "2\n",
            "1\n",
            "Stop\n",
            "Fin\n"
          ],
          "name": "stdout"
        }
      ]
    },
    {
      "cell_type": "code",
      "metadata": {
        "colab": {
          "background_save": true,
          "base_uri": "https://localhost:8080/"
        },
        "id": "-UPb36KlCLp_",
        "outputId": "0499f042-ec71-4977-da20-a81fcc95dd53"
      },
      "source": [
        "def printRev( x ):\n",
        "    if x > 0:\n",
        "        print( x )\n",
        "        printRev( x - 1)\n",
        "\n",
        "printRev( 3 )"
      ],
      "execution_count": null,
      "outputs": [
        {
          "output_type": "stream",
          "text": [
            "1\n",
            "2\n",
            "3\n"
          ],
          "name": "stdout"
        }
      ]
    },
    {
      "cell_type": "code",
      "metadata": {
        "colab": {
          "base_uri": "https://localhost:8080/"
        },
        "id": "uZdDfINyJACP",
        "outputId": "3c3238ea-6079-406e-84a7-940725b37c24"
      },
      "source": [
        "#   Fibonacci con recursividad\n",
        "\n",
        "def  fibonacci( n ):\n",
        "    if n == 1 or n == 0:\n",
        "        return n\n",
        "    else:\n",
        "        return (fibonacci(n-1) + fibonacci(n-2) )\n",
        "    \n",
        "print(fibonacci(8))"
      ],
      "execution_count": 15,
      "outputs": [
        {
          "output_type": "stream",
          "text": [
            "21\n"
          ],
          "name": "stdout"
        }
      ]
    }
  ]
}