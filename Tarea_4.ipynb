{
  "nbformat": 4,
  "nbformat_minor": 0,
  "metadata": {
    "colab": {
      "name": "Tarea 4.ipynb",
      "provenance": [],
      "authorship_tag": "ABX9TyPrRfQNCI0CVec5SPZpDYwD",
      "include_colab_link": true
    },
    "kernelspec": {
      "name": "python3",
      "display_name": "Python 3"
    }
  },
  "cells": [
    {
      "cell_type": "markdown",
      "metadata": {
        "id": "view-in-github",
        "colab_type": "text"
      },
      "source": [
        "<a href=\"https://colab.research.google.com/github/aislinngo/daa_2021_1/blob/master/Tarea_4.ipynb\" target=\"_parent\"><img src=\"https://colab.research.google.com/assets/colab-badge.svg\" alt=\"Open In Colab\"/></a>"
      ]
    },
    {
      "cell_type": "code",
      "metadata": {
        "id": "KuEJsIBS2AYO"
      },
      "source": [
        "# Función: 3+log( n )\n",
        "\n",
        "def ejemplo4( n ):\n",
        "    count = 0\n",
        "    i = n\n",
        "    print (\"Nivel 1\")\n",
        "    while i >= 1:\n",
        "        count += 1\n",
        "        i = i //2\n",
        "        print (\"Nivel 2\")\n",
        "    basura = 3 + 2\n",
        "    \n",
        "    return count\n",
        "    \n"
      ],
      "execution_count": 4,
      "outputs": []
    }
  ]
}