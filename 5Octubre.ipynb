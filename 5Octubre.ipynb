{
  "nbformat": 4,
  "nbformat_minor": 0,
  "metadata": {
    "colab": {
      "name": "5Octubre.ipynb",
      "provenance": [],
      "authorship_tag": "ABX9TyNDBvmJtRIhaHBUmudwNWiH",
      "include_colab_link": true
    },
    "kernelspec": {
      "name": "python3",
      "display_name": "Python 3"
    }
  },
  "cells": [
    {
      "cell_type": "markdown",
      "metadata": {
        "id": "view-in-github",
        "colab_type": "text"
      },
      "source": [
        "<a href=\"https://colab.research.google.com/github/aislinngo/daa_2021_1/blob/master/5Octubre.ipynb\" target=\"_parent\"><img src=\"https://colab.research.google.com/assets/colab-badge.svg\" alt=\"Open In Colab\"/></a>"
      ]
    },
    {
      "cell_type": "code",
      "metadata": {
        "id": "A7pWefT1ApOc"
      },
      "source": [
        ""
      ],
      "execution_count": null,
      "outputs": []
    },
    {
      "cell_type": "markdown",
      "metadata": {
        "id": "XfnUra9xA3tH"
      },
      "source": [
        "#Estructura de datos Pila (Stack)\n",
        "Last in First Out (LIFO)\n",
        "De tipo lineal\n",
        "Se pueden obtenener e ingresar datos desde el tope\n",
        "push para agregar\n",
        "pop para sacar\n",
        "\n",
        "##Operaciones de las pilas\n",
        "\n",
        "1. is_empty (regresa true o false)\n",
        "1. get_top (regresa el elemento en el tope SIN SACARLO)\n",
        "1. pop (Saca el elemento del tope y lo regresa)\n",
        "1. push (mete un elemento en el tope)\n",
        "1. get_length (regresa el número de elementos en la pila)"
      ]
    },
    {
      "cell_type": "code",
      "metadata": {
        "id": "rAnRI0aRCmhH",
        "outputId": "e9708a00-7de2-46cc-fdd1-87f4b45c3287",
        "colab": {
          "base_uri": "https://localhost:8080/",
          "height": 51
        }
      },
      "source": [
        "class Stack:\n",
        "  def __init__(self):\n",
        "    self.__datos= []\n",
        "\n",
        "  def is_empty(self):\n",
        "    return len(self.__datos)==0\n",
        "  \n",
        "  def get_top(self):\n",
        "    return self.__datos[-1]\n",
        "\n",
        "  def pop(self):\n",
        "    return self.__datos.pop()\n",
        "  \n",
        "  def push (self, valor):\n",
        "    self.__datos.append(valor)\n",
        "    \n",
        "  def get_length(self):\n",
        "    return len(self.__datos)\n",
        "  \n",
        "  def to_string(self):\n",
        "    print(\"|--------|\")\n",
        "    for ele in self.__datos[-1::-1]:\n",
        "      print(f\" { ele } \")\n",
        "  print(\"|--------|\\n\")    \n",
        "    "
      ],
      "execution_count": 1,
      "outputs": [
        {
          "output_type": "stream",
          "text": [
            "|--------|\n",
            "\n"
          ],
          "name": "stdout"
        }
      ]
    },
    {
      "cell_type": "code",
      "metadata": {
        "id": "PyM40yA_GLtT",
        "outputId": "627b2888-54cf-4f00-d0fe-1264d1de7d93",
        "colab": {
          "base_uri": "https://localhost:8080/",
          "height": 510
        }
      },
      "source": [
        "pila1= Stack()\n",
        "pila1.push (10)\n",
        "pila1.push (20)\n",
        "pila1.push (1)\n",
        "pila1.push (393)\n",
        "pila1.push (103)\n",
        "pila1.to_string()\n",
        "\n",
        "sacado = pila1.pop()\n",
        "print(sacado)\n",
        "pila1.to_string()\n",
        "\n",
        "pila1.push (444)\n",
        "pila1.push (233)\n",
        "pila1.to_string()\n",
        "\n",
        "print(f\" El elemento en el tope es: { pila1.get_top() }\")\n",
        "pila1.to_string()\n",
        "print(f\" La pila tiene { pila1.get_length() } elementos\")\n",
        "print(f\"¿La fila esta vacía?: { pila1.is_empty() }\")"
      ],
      "execution_count": 2,
      "outputs": [
        {
          "output_type": "stream",
          "text": [
            "|--------|\n",
            " 103 \n",
            " 393 \n",
            " 1 \n",
            " 20 \n",
            " 10 \n",
            "103\n",
            "|--------|\n",
            " 393 \n",
            " 1 \n",
            " 20 \n",
            " 10 \n",
            "|--------|\n",
            " 233 \n",
            " 444 \n",
            " 393 \n",
            " 1 \n",
            " 20 \n",
            " 10 \n",
            " El elemento en el tope es: 233\n",
            "|--------|\n",
            " 233 \n",
            " 444 \n",
            " 393 \n",
            " 1 \n",
            " 20 \n",
            " 10 \n",
            " La pila tiene 6 elementos\n",
            "¿La fila esta vacía?: False\n"
          ],
          "name": "stdout"
        }
      ]
    },
    {
      "cell_type": "markdown",
      "metadata": {
        "id": "fT3G89IoJDl3"
      },
      "source": [
        "#Ejemplo de aplicación de pilas\n",
        "\n",
        "x = 4 + 5 + 6 + 3\n",
        "\n",
        "x = 4 + (5 + 6) + 3\n",
        "\n",
        "x = 4 + (5 + 6) + 3\n",
        "\n",
        "if(a==b){System.out.println (b)\n",
        "\n",
        "if(a==b){System.out.println(b}\n",
        "\n",
        "#reglas\n",
        "### '(' ---> push ('@')\n",
        "### ')' ---> pop()\n",
        "\n",
        "Sí al final del recorrido la pila esta vacia, entonces la cadena es correcta.\n",
        "Sí un pop desemcadena en querer sacar un elemento de la pila vacía significa que la cadena no esta balanceada.\n",
        "\n",
        "\n"
      ]
    },
    {
      "cell_type": "markdown",
      "metadata": {
        "id": "SRuihm_9NUtq"
      },
      "source": [
        "#TAREA\n",
        "\n",
        "Hacer un programa que valide el balanceo de '()', '[]' y '{}' en programas del lenguaje C y Java \n",
        "\n",
        "Tomando como base el código de la clase. "
      ]
    }
  ]
}