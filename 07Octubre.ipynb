{
  "nbformat": 4,
  "nbformat_minor": 0,
  "metadata": {
    "colab": {
      "name": "07Octubre.ipynb",
      "provenance": [],
      "authorship_tag": "ABX9TyOgL0F+aZv3n62SFUc9wH+p",
      "include_colab_link": true
    },
    "kernelspec": {
      "name": "python3",
      "display_name": "Python 3"
    }
  },
  "cells": [
    {
      "cell_type": "markdown",
      "metadata": {
        "id": "view-in-github",
        "colab_type": "text"
      },
      "source": [
        "<a href=\"https://colab.research.google.com/github/aislinngo/daa_2021_1/blob/master/07Octubre.ipynb\" target=\"_parent\"><img src=\"https://colab.research.google.com/assets/colab-badge.svg\" alt=\"Open In Colab\"/></a>"
      ]
    },
    {
      "cell_type": "markdown",
      "metadata": {
        "id": "gD0D9zZNUYEz"
      },
      "source": [
        "#Búsqueda Lineal\n",
        "Dado un conjunto de datos no ordenados, la búsqueda lineal consiste en recorrer el conjunto de datos desde el inicio al final, moviendose de de uno en uno hasta encontrar el elemento o llegar al final del conjunto.\n",
        "\n",
        "datos = [ 4,18,47,2,34,14,78,12,48,21,31,19,1,3,5]\n",
        "\n",
        "#Búsqueda Binaria\n",
        "Funciona sobre un conjunto de datos lineal ordenado.\n",
        "Consiste en dividir el conjunto en mitades y buscar en esa mitad. Sí el elemento buscado no está en la mitad, preguntas sí el elemento esta a la derecha o a al izq.\n",
        "Haces la ,ista igual a la mitad correspondiente y repites el proceso.\n",
        "\n",
        "L=[1, 2, 3, 4, 5, 12, 14, 18, 19, 21, 31, 34, 47, 48, 78]\n",
        "DER =longiTud( L ) -1\n",
        "\n",
        "IZQ = 0\n",
        "\n",
        "MID = 0\n",
        "\n",
        "MID apuntara a la mitad del segmento de búsqueda.\n",
        "\n",
        "buscado: es el valor a buscar(47)\n",
        "\n",
        "1. Hacer DER = longitud( L ) -1\n",
        "2. Hacer IZQ = 0\n",
        "3. Sí IZQ > DER significa que hay un error en los datos.\n",
        "4. Calcular MID = int( (IZQ + DER)/2 )\n",
        "5. Mientras L[MID] != buscado hacer\n",
        "6.     - preguntar L[MID]> buscado\n",
        "          - hacer DER = mid\n",
        "       - de lo contrario\n",
        "          - hacer IZQ = mid\n",
        "       - preguntar (DER - IZQ) %2\n",
        "          - MID = (IZQ + ((DER - IZQ)/ 2))+1\n",
        "       - de lo contrario\n",
        "          - MID = IZQ + (DER - IZQ)/ 2)\n",
        "\n",
        "7. return MID\n",
        "        \n",
        "      \n"
      ]
    },
    {
      "cell_type": "code",
      "metadata": {
        "id": "a2Y_r7tOVDxX",
        "outputId": "245cf24d-b28e-49d2-8fd6-3ff1a7826ad7",
        "colab": {
          "base_uri": "https://localhost:8080/"
        }
      },
      "source": [
        "\"\"\"Búsqueda lineal \n",
        "Regresa la posición del elemento 'buscado' sí no se encuentra dentro de la lista. \n",
        "Regresa -1 si elemento buscado no existe dentro de la lista\n",
        "\n",
        "\n",
        "\"\"\"\n",
        "\n",
        "def busq_lineal( L , buscado):\n",
        "  indice = -1\n",
        "  for idx in range (len(L)):\n",
        "    indice = -1\n",
        "    contador = 0\n",
        "    if L[idx] == buscado:\n",
        "      indice = idx\n",
        "      break\n",
        "  print(f\"Número de comparaciones realizadas: {contador}\")\n",
        "  return indice\n",
        "\n",
        "\n",
        "\"\"\"\n",
        "Búsqueda binaria\n",
        "\"\"\"\n",
        "def busqueda_binaria( L , buscado):\n",
        "  IZQ = 0\n",
        "  DER = len(L)-1\n",
        "  MID = int((IZQ + DER) /2)\n",
        "  \n",
        "  if len(L)% 2 == 0:\n",
        "    MID =(DER //2)+1\n",
        "  \n",
        "  else:\n",
        "    MID = DER //2\n",
        "    while (L[MID] !=buscado ):\n",
        "      if L[MID] > buscado:\n",
        "          DER = MID\n",
        "      else:\n",
        "          IZQ = MID\n",
        "      if (DER - IZQ) % 2 == 0:\n",
        "          MID = (IZQ+((DER - IZQ)//2))+1\n",
        "      else:\n",
        "      MID = IZQ + ((DER-IZQ)//2)\n",
        "    return MID\n",
        "\n",
        "\n",
        "\n",
        "def main():\n",
        "  datos = [ 4,18,47,2,34,14,78,12,48,21,31,19,1,3,5]\n",
        "  dato = int(input(\"¿Qué valor deseas buscar?: \"))\n",
        "  resultado = busq_lineal(datos, dato)\n",
        "  print(\"Resultado: \",resultado)\n",
        "\n",
        "  print(\"Búsqueda lineal en una lista ordenada\")\n",
        "  datos.sort()\n",
        "  print(datos)\n",
        "  resultado = busq_lineal(datos, dato)\n",
        "  print(\"Resultado: \",resultado)\n",
        "\n",
        "  print(\"Búsqueda Binaria\")\n",
        "  posicion = busqueda_binaria(datos, dato)\n",
        "\n",
        "main()"
      ],
      "execution_count": 5,
      "outputs": [
        {
          "output_type": "stream",
          "text": [
            "¿Qué valor deseas buscar?: 3\n",
            "Número de comparaciones realizadas: 0\n",
            "Resultado:  13\n",
            "Búsqueda lineal en una lista ordenada\n",
            "[1, 2, 3, 4, 5, 12, 14, 18, 19, 21, 31, 34, 47, 48, 78]\n",
            "Número de comparaciones realizadas: 0\n",
            "Resultado:  2\n"
          ],
          "name": "stdout"
        }
      ]
    }
  ]
}