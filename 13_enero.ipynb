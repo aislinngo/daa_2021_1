{
  "nbformat": 4,
  "nbformat_minor": 0,
  "metadata": {
    "colab": {
      "name": "13 enero.ipynb",
      "provenance": [],
      "authorship_tag": "ABX9TyNg65vo+l6Ixe8xBu8FwrT8",
      "include_colab_link": true
    },
    "kernelspec": {
      "name": "python3",
      "display_name": "Python 3"
    }
  },
  "cells": [
    {
      "cell_type": "markdown",
      "metadata": {
        "id": "view-in-github",
        "colab_type": "text"
      },
      "source": [
        "<a href=\"https://colab.research.google.com/github/aislinngo/daa_2021_1/blob/master/13_enero.ipynb\" target=\"_parent\"><img src=\"https://colab.research.google.com/assets/colab-badge.svg\" alt=\"Open In Colab\"/></a>"
      ]
    },
    {
      "cell_type": "code",
      "metadata": {
        "id": "JzFNbsOaMy8b"
      },
      "source": [
        "class NodoArbol:\r\n",
        "    def __init__(self, value, hijo_izq=None, hijo_der=None):\r\n",
        "        self.data = value\r\n",
        "        self.left = hijo_izq\r\n",
        "        self.right = hijo_der\r\n",
        "         "
      ],
      "execution_count": 71,
      "outputs": []
    },
    {
      "cell_type": "markdown",
      "metadata": {
        "id": "FAt3AqTDPiwg"
      },
      "source": [
        "#Árbol Binario de Búsqueda\r\n",
        "\r\n",
        "Los nodos a la izq son menores a la raís y los nodos a la derecha son mayores a la raiz. Pueden ser recorridos en: pre-orden, in-orden y post-orden.\r\n",
        "\r\n",
        "1. Eliminar\r\n",
        "2. Rec_pre\r\n",
        "3. Rec_post\r\n",
        "4. Rec_in\r\n",
        "5. Search"
      ]
    },
    {
      "cell_type": "code",
      "metadata": {
        "id": "lTU-hMO0Smy4"
      },
      "source": [
        "class BinarySearchTree:\r\n",
        "    def __init__( self ):\r\n",
        "        self.__root =None\r\n",
        "\r\n",
        "    def insert( self , value ):\r\n",
        "        if self.__root == None:\r\n",
        "            self.__root = NodoArbol(value, None, None)\r\n",
        "        else:\r\n",
        "            #Preguntar si value es menor que root, se ser el caso, insertar a la izqueirda PERO... puede \r\n",
        "            #ser el caso que el subarbol izquierdo ya tenga muchos elementos...\r\n",
        "            \r\n",
        "            self.__insert_nodo__( self.__root, value)\r\n",
        "\r\n",
        "    def __insert_nodo__(self, nodo, value ): \r\n",
        "        if nodo.data == value:\r\n",
        "            pass\r\n",
        "        if value < nodo.data: #True va a a la izq\r\n",
        "            if nodo.left == None: #Si hay espacio en la izq, ahí va\r\n",
        "                nodo.left =NodoArbol( value, None, None) #Insertamos el nodo\r\n",
        "            else:\r\n",
        "                self.__insert_nodo__( nodo.left, value) #buscar en subarbol izq\r\n",
        "        elif value > nodo.data:\r\n",
        "            if nodo.right == None:\r\n",
        "                nodo.right = NodoArbol( value, None, None)\r\n",
        "            else:\r\n",
        "                self.__insert_nodo__( nodo.right, value) #buscar en subarbol der\r\n",
        "    \r\n",
        "    \r\n",
        "    def buscar( self, value):\r\n",
        "        if self.__root == None:\r\n",
        "            return False\r\n",
        "        else: \r\n",
        "            #Haremos una búsqueda recursiva\r\n",
        "            return self.__busca_nodo(self.__root, value)\r\n",
        "\r\n",
        "    \r\n",
        "    def __busca_nodo( self, nodo, value ):\r\n",
        "        if nodo == None:\r\n",
        "            return None\r\n",
        "        elif nodo.data == value:\r\n",
        "            return nodo.data\r\n",
        "        elif value < nodo.data:\r\n",
        "            return self.__busca_nodo( nodo.left, value )\r\n",
        "        else: \r\n",
        "            return self.__busca_nodo( nodo.right, value)\r\n",
        "    def transversal( self, format=\"inorden\"):\r\n",
        "        if format == \"inorden\":\r\n",
        "            self.__recorrido_in( self.__root)\r\n",
        "        elif format == \" preorden\":\r\n",
        "            self.__recorrido_pre(self.__root)\r\n",
        "        elif format == \" posorden \":\r\n",
        "            self.__recorrido_pos(self.__root)\r\n",
        "        else:\r\n",
        "            print( \"Formato de recorrido no válido\")\r\n",
        "\r\n",
        "    def __recorrido_pre( self, nodo):\r\n",
        "        if nodo != None:\r\n",
        "            print(nodo.data)\r\n",
        "            self.__recorrido_pre(nodo.left)\r\n",
        "            self.__recorrido_pre(nodo.right)\r\n",
        "    \r\n",
        "    def __recorrido_in( self, nodo):\r\n",
        "        if nodo !=None:\r\n",
        "            self.__recorrido_in(nodo.left)\r\n",
        "            print(nodo.data)\r\n",
        "            self.__recorrido_in(nodo.right)\r\n",
        "\r\n",
        "    def __recorrido_pos( self, nodo):\r\n",
        "        if nodo != None:\r\n",
        "            self.__recorrido_pos(nodo.left)\r\n",
        "            self.__recorrido_pos(nodo.right)\r\n",
        "            print(nodo.data)\r\n",
        "\r\n",
        "\r\n",
        "\r\n",
        "\r\n"
      ],
      "execution_count": 72,
      "outputs": []
    },
    {
      "cell_type": "code",
      "metadata": {
        "colab": {
          "base_uri": "https://localhost:8080/"
        },
        "id": "ku7kFe5xbmD3",
        "outputId": "7a4f608a-a983-48a6-a7e7-ebd33418bcf2"
      },
      "source": [
        "bst = BinarySearchTree()\r\n",
        "bst.insert(50)\r\n",
        "bst.insert(30)\r\n",
        "bst.insert(20)\r\n",
        "res = bst.buscar(20) #true o false \r\n",
        "print(\"Dato: \", str(res))\r\n",
        "print( bst.buscar(40))\r\n",
        "bst.transversal(\"preorden\")\r\n",
        "print(\"---------\")\r\n",
        "bst.transversal(\"inorden\")\r\n",
        "print(\"-------\")\r\n",
        "bst.transversal(\"posorden\")\r\n",
        "print(\"--------\")"
      ],
      "execution_count": 73,
      "outputs": [
        {
          "output_type": "stream",
          "text": [
            "Dato:  20\n",
            "None\n",
            "Formato de recorrido no válido\n",
            "---------\n",
            "20\n",
            "30\n",
            "50\n",
            "-------\n",
            "Formato de recorrido no válido\n",
            "--------\n"
          ],
          "name": "stdout"
        }
      ]
    }
  ]
}