{
  "nbformat": 4,
  "nbformat_minor": 0,
  "metadata": {
    "colab": {
      "name": "Tarea 5.ipynb",
      "provenance": [],
      "authorship_tag": "ABX9TyOaLiUrChsoPibIospt1u71",
      "include_colab_link": true
    },
    "kernelspec": {
      "name": "python3",
      "display_name": "Python 3"
    }
  },
  "cells": [
    {
      "cell_type": "markdown",
      "metadata": {
        "id": "view-in-github",
        "colab_type": "text"
      },
      "source": [
        "<a href=\"https://colab.research.google.com/github/aislinngo/daa_2021_1/blob/master/Tarea_5.ipynb\" target=\"_parent\"><img src=\"https://colab.research.google.com/assets/colab-badge.svg\" alt=\"Open In Colab\"/></a>"
      ]
    },
    {
      "cell_type": "code",
      "metadata": {
        "id": "AKl_YDYnLAoI",
        "outputId": "55557229-62c4-4f93-b0ba-2db1e5f8ccc6",
        "colab": {
          "base_uri": "https://localhost:8080/",
          "height": 357
        }
      },
      "source": [
        "from time import time\n",
        "def ejemplo1( n ):\n",
        "    start_time = time()\n",
        "    c = n + 1\n",
        "    d = c * n\n",
        "    e = n * n\n",
        "    total = c + e - d\n",
        "    print(f\"total={ total }\")\n",
        "    elapsed_time = time() - start_time\n",
        "    print(\"Tiempo transcurrido: %0.10f segundos.\" % elapsed_time)\n",
        "for entrada in range(100,1100,100):\n",
        "  ejemplo1(entrada)"
      ],
      "execution_count": null,
      "outputs": [
        {
          "output_type": "stream",
          "text": [
            "total=1\n",
            "Tiempo transcurrido: 0.0000755787 segundos.\n",
            "total=1\n",
            "Tiempo transcurrido: 0.0000109673 segundos.\n",
            "total=1\n",
            "Tiempo transcurrido: 0.0000157356 segundos.\n",
            "total=1\n",
            "Tiempo transcurrido: 0.0000095367 segundos.\n",
            "total=1\n",
            "Tiempo transcurrido: 0.0000088215 segundos.\n",
            "total=1\n",
            "Tiempo transcurrido: 0.0000085831 segundos.\n",
            "total=1\n",
            "Tiempo transcurrido: 0.0000083447 segundos.\n",
            "total=1\n",
            "Tiempo transcurrido: 0.0000090599 segundos.\n",
            "total=1\n",
            "Tiempo transcurrido: 0.0000085831 segundos.\n",
            "total=1\n",
            "Tiempo transcurrido: 0.0000085831 segundos.\n"
          ],
          "name": "stdout"
        }
      ]
    },
    {
      "cell_type": "code",
      "metadata": {
        "id": "JhhNI728LmbB",
        "outputId": "f0817399-4c04-46fb-f4d9-9c001ea53529",
        "colab": {
          "base_uri": "https://localhost:8080/",
          "height": 187
        }
      },
      "source": [
        "#T(n)= 1 + n^2\n",
        "\n",
        "from time import time\n",
        "def ejemplo2( n ):\n",
        "    start_time = time()\n",
        "    contador = 0\n",
        "    for i in range( n ) :\n",
        "        for j in range( n ) :\n",
        "            contador += 1\n",
        "    \n",
        "    elapsed_time = time() - start_time\n",
        "    print(\"Tiempo transcurrido: %0.10f segundos.\" % elapsed_time)\n",
        "    return contador\n",
        "\n",
        "for entrada in range(100,1100,100):\n",
        "  ejemplo2(entrada)\n",
        "\n"
      ],
      "execution_count": null,
      "outputs": [
        {
          "output_type": "stream",
          "text": [
            "Tiempo transcurrido: 0.0008299351 segundos.\n",
            "Tiempo transcurrido: 0.0037853718 segundos.\n",
            "Tiempo transcurrido: 0.0122807026 segundos.\n",
            "Tiempo transcurrido: 0.0112614632 segundos.\n",
            "Tiempo transcurrido: 0.0156812668 segundos.\n",
            "Tiempo transcurrido: 0.0222711563 segundos.\n",
            "Tiempo transcurrido: 0.0280673504 segundos.\n",
            "Tiempo transcurrido: 0.0408530235 segundos.\n",
            "Tiempo transcurrido: 0.0433392525 segundos.\n",
            "Tiempo transcurrido: 0.0590775013 segundos.\n"
          ],
          "name": "stdout"
        }
      ]
    },
    {
      "cell_type": "code",
      "metadata": {
        "id": "g23yWdG5Ls6V",
        "outputId": "4e38d98b-4ec7-4ba8-9f51-a561bb24c066",
        "colab": {
          "base_uri": "https://localhost:8080/",
          "height": 187
        }
      },
      "source": [
        "#T(n)=102\n",
        "\n",
        "from time import time\n",
        "def ejemplo3( n ): # n=4\n",
        "    start_time = time()\n",
        "\n",
        "    x = n * 2 # x = 8\n",
        "    y = 0   # y = 0\n",
        "    for m in range( 100 ): #3\n",
        "        y = x - n   # y = 4\n",
        "\n",
        "    elapsed_time = time() - start_time\n",
        "    print(\"Tiempo transcurrido: %0.10f segundos.\" % elapsed_time)\n",
        "    return y\n",
        "for entrada in range(100,1100,100):\n",
        "  ejemplo3(entrada)\n"
      ],
      "execution_count": null,
      "outputs": [
        {
          "output_type": "stream",
          "text": [
            "Tiempo transcurrido: 0.0000069141 segundos.\n",
            "Tiempo transcurrido: 0.0000076294 segundos.\n",
            "Tiempo transcurrido: 0.0000100136 segundos.\n",
            "Tiempo transcurrido: 0.0000083447 segundos.\n",
            "Tiempo transcurrido: 0.0000085831 segundos.\n",
            "Tiempo transcurrido: 0.0000081062 segundos.\n",
            "Tiempo transcurrido: 0.0000076294 segundos.\n",
            "Tiempo transcurrido: 0.0000083447 segundos.\n",
            "Tiempo transcurrido: 0.0000131130 segundos.\n",
            "Tiempo transcurrido: 0.0000078678 segundos.\n"
          ],
          "name": "stdout"
        }
      ]
    },
    {
      "cell_type": "code",
      "metadata": {
        "id": "aG1pOn08Ls2z",
        "outputId": "e944bcaa-4eae-43c6-ed41-36dd85edb738",
        "colab": {
          "base_uri": "https://localhost:8080/",
          "height": 187
        }
      },
      "source": [
        "#T(n)= 3\n",
        "\n",
        "from time import time\n",
        "def ejemplo4( n ):\n",
        "    start_time = time()\n",
        "    x = 3 * 3.1416 + n\n",
        "    y = x + 3 * 3 - n\n",
        "    z = x + y\n",
        "    \n",
        "    elapsed_time = time() - start_time\n",
        "    print(\"Tiempo transcurrido: %0.10f segundos.\" % elapsed_time)\n",
        "    return z\n",
        "for entrada in range(100,1100,100):\n",
        "  ejemplo4(entrada)\n"
      ],
      "execution_count": null,
      "outputs": [
        {
          "output_type": "stream",
          "text": [
            "Tiempo transcurrido: 0.0000009537 segundos.\n",
            "Tiempo transcurrido: 0.0000011921 segundos.\n",
            "Tiempo transcurrido: 0.0000004768 segundos.\n",
            "Tiempo transcurrido: 0.0000002384 segundos.\n",
            "Tiempo transcurrido: 0.0000004768 segundos.\n",
            "Tiempo transcurrido: 0.0000002384 segundos.\n",
            "Tiempo transcurrido: 0.0000002384 segundos.\n",
            "Tiempo transcurrido: 0.0000007153 segundos.\n",
            "Tiempo transcurrido: 0.0000002384 segundos.\n",
            "Tiempo transcurrido: 0.0000004768 segundos.\n"
          ],
          "name": "stdout"
        }
      ]
    },
    {
      "cell_type": "code",
      "metadata": {
        "id": "tvj5SYMAL3Ac",
        "outputId": "ea762d98-56c9-4cda-db0e-7982df05ab6d",
        "colab": {
          "base_uri": "https://localhost:8080/",
          "height": 187
        }
      },
      "source": [
        "#T(n)= 1+ x\n",
        "\n",
        "from time import time\n",
        "def ejemplo5( x ): #X es quien controla el valor de j en el for\n",
        "    start_time = time()\n",
        "    n = 10 #No estamos recibiendo n\n",
        "    for j in range( 0 , x , 1 ):\n",
        "        n = j + n\n",
        "    \n",
        "    elapsed_time = time() - start_time\n",
        "    print(\"Tiempo transcurrido: %0.10f segundos.\" % elapsed_time)\n",
        "    return n\n",
        "for entrada in range(100,1100,100):\n",
        "  ejemplo5(entrada)\n"
      ],
      "execution_count": 23,
      "outputs": [
        {
          "output_type": "stream",
          "text": [
            "Tiempo transcurrido: 0.0000083447 segundos.\n",
            "Tiempo transcurrido: 0.0000138283 segundos.\n",
            "Tiempo transcurrido: 0.0000226498 segundos.\n",
            "Tiempo transcurrido: 0.0000298023 segundos.\n",
            "Tiempo transcurrido: 0.0000364780 segundos.\n",
            "Tiempo transcurrido: 0.0000486374 segundos.\n",
            "Tiempo transcurrido: 0.0000588894 segundos.\n",
            "Tiempo transcurrido: 0.0000622272 segundos.\n",
            "Tiempo transcurrido: 0.0000772476 segundos.\n",
            "Tiempo transcurrido: 0.0000789165 segundos.\n"
          ],
          "name": "stdout"
        }
      ]
    },
    {
      "cell_type": "code",
      "metadata": {
        "id": "BXxWper3L3jr",
        "outputId": "a4c0737b-7c5e-4388-9b79-4a24c99e2601",
        "colab": {
          "base_uri": "https://localhost:8080/",
          "height": 187
        }
      },
      "source": [
        "from time import time\n",
        "\n",
        "def ejemplo6( n ):\n",
        "    start_time = time()\n",
        "    data=[[[1 for x in range(n)] for x in range(n)]\n",
        "          for x in range(n)]\n",
        "    suma = 0\n",
        "    for d in range(n):\n",
        "        for r in range(n):\n",
        "            for c in range(n):\n",
        "                suma += data[d][r][c]\n",
        "\n",
        "    elapsed_time = time() - start_time\n",
        "    print(\"Tiempo transcurrido: %0.10f segundos.\" % elapsed_time)\n",
        "    return suma\n",
        "for entrada in range(100,1100,100):\n",
        "  ejemplo6(entrada)\n"
      ],
      "execution_count": 22,
      "outputs": [
        {
          "output_type": "stream",
          "text": [
            "Tiempo transcurrido: 0.1961374283 segundos.\n",
            "Tiempo transcurrido: 1.0523059368 segundos.\n",
            "Tiempo transcurrido: 3.7244813442 segundos.\n",
            "Tiempo transcurrido: 9.5048580170 segundos.\n",
            "Tiempo transcurrido: 22.9273381233 segundos.\n",
            "Tiempo transcurrido: 34.1377940178 segundos.\n",
            "Tiempo transcurrido: 52.6861062050 segundos.\n",
            "Tiempo transcurrido: 80.9890072346 segundos.\n",
            "Tiempo transcurrido: 111.8442978859 segundos.\n",
            "Tiempo transcurrido: 158.3685724735 segundos.\n"
          ],
          "name": "stdout"
        }
      ]
    }
  ]
}