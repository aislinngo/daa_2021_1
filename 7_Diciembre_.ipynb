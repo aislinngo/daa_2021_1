{
  "nbformat": 4,
  "nbformat_minor": 0,
  "metadata": {
    "colab": {
      "name": "7 Diciembre .ipynb",
      "provenance": [],
      "authorship_tag": "ABX9TyN0BmaARDvtQewXDHO5Nfzk",
      "include_colab_link": true
    },
    "kernelspec": {
      "name": "python3",
      "display_name": "Python 3"
    }
  },
  "cells": [
    {
      "cell_type": "markdown",
      "metadata": {
        "id": "view-in-github",
        "colab_type": "text"
      },
      "source": [
        "<a href=\"https://colab.research.google.com/github/aislinngo/daa_2021_1/blob/master/7_Diciembre_.ipynb\" target=\"_parent\"><img src=\"https://colab.research.google.com/assets/colab-badge.svg\" alt=\"Open In Colab\"/></a>"
      ]
    },
    {
      "cell_type": "code",
      "metadata": {
        "id": "jyOrS8h1lryd"
      },
      "source": [
        "def fnRecInfinita():\n",
        "    print(\"Hola\")\n",
        "    fnRecInfinita()"
      ],
      "execution_count": 4,
      "outputs": []
    },
    {
      "cell_type": "code",
      "metadata": {
        "colab": {
          "base_uri": "https://localhost:8080/"
        },
        "id": "gHupoJP_utW9",
        "outputId": "3e4f1127-c8f5-4d5a-e4b8-0c84080fae88"
      },
      "source": [
        "def fnRec( x ):\n",
        "    if x == 0:\n",
        "        print(\"Stop\")\n",
        "    else:\n",
        "        print( x )\n",
        "        fnRec( x-1 )\n",
        "def main():\n",
        "    print(\"Inicio del programa\")\n",
        "    fnRec( 5 )\n",
        "    print(\"Fin\")\n",
        "    \n",
        "main()"
      ],
      "execution_count": 3,
      "outputs": [
        {
          "output_type": "stream",
          "text": [
            "Inicio del programa\n",
            "5\n",
            "4\n",
            "3\n",
            "2\n",
            "1\n",
            "Stop\n",
            "Fin\n"
          ],
          "name": "stdout"
        }
      ]
    },
    {
      "cell_type": "code",
      "metadata": {
        "colab": {
          "base_uri": "https://localhost:8080/"
        },
        "id": "Q_QzLw7pw7Ri",
        "outputId": "d32ebe04-0f2e-4a3c-c7f6-3321ebb65d6a"
      },
      "source": [
        "def printRev( x ):\n",
        "    if x > 0:\n",
        "        print( x )\n",
        "        printRev( x - 1)\n",
        "\n",
        "printRev( 3 )"
      ],
      "execution_count": 2,
      "outputs": [
        {
          "output_type": "stream",
          "text": [
            "3\n",
            "2\n",
            "1\n"
          ],
          "name": "stdout"
        }
      ]
    },
    {
      "cell_type": "code",
      "metadata": {
        "colab": {
          "base_uri": "https://localhost:8080/"
        },
        "id": "fZCnjlA8w_bY",
        "outputId": "27525ba9-3986-44c3-cee0-686a0daa7efe"
      },
      "source": [
        "#   Fibonacci con recursividad\n",
        "\n",
        "def  fibonacci( n ):\n",
        "    print(\"llamada:\",n)\n",
        "    if n == 1 or n == 0:\n",
        "        return n\n",
        "    else:\n",
        "        return (fibonacci(n-1) + fibonacci(n-2) )\n",
        "    \n",
        "print(fibonacci(8))"
      ],
      "execution_count": 1,
      "outputs": [
        {
          "output_type": "stream",
          "text": [
            "llamada: 8\n",
            "llamada: 7\n",
            "llamada: 6\n",
            "llamada: 5\n",
            "llamada: 4\n",
            "llamada: 3\n",
            "llamada: 2\n",
            "llamada: 1\n",
            "llamada: 0\n",
            "llamada: 1\n",
            "llamada: 2\n",
            "llamada: 1\n",
            "llamada: 0\n",
            "llamada: 3\n",
            "llamada: 2\n",
            "llamada: 1\n",
            "llamada: 0\n",
            "llamada: 1\n",
            "llamada: 4\n",
            "llamada: 3\n",
            "llamada: 2\n",
            "llamada: 1\n",
            "llamada: 0\n",
            "llamada: 1\n",
            "llamada: 2\n",
            "llamada: 1\n",
            "llamada: 0\n",
            "llamada: 5\n",
            "llamada: 4\n",
            "llamada: 3\n",
            "llamada: 2\n",
            "llamada: 1\n",
            "llamada: 0\n",
            "llamada: 1\n",
            "llamada: 2\n",
            "llamada: 1\n",
            "llamada: 0\n",
            "llamada: 3\n",
            "llamada: 2\n",
            "llamada: 1\n",
            "llamada: 0\n",
            "llamada: 1\n",
            "llamada: 6\n",
            "llamada: 5\n",
            "llamada: 4\n",
            "llamada: 3\n",
            "llamada: 2\n",
            "llamada: 1\n",
            "llamada: 0\n",
            "llamada: 1\n",
            "llamada: 2\n",
            "llamada: 1\n",
            "llamada: 0\n",
            "llamada: 3\n",
            "llamada: 2\n",
            "llamada: 1\n",
            "llamada: 0\n",
            "llamada: 1\n",
            "llamada: 4\n",
            "llamada: 3\n",
            "llamada: 2\n",
            "llamada: 1\n",
            "llamada: 0\n",
            "llamada: 1\n",
            "llamada: 2\n",
            "llamada: 1\n",
            "llamada: 0\n",
            "21\n"
          ],
          "name": "stdout"
        }
      ]
    }
  ]
}