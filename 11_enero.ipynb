{
  "nbformat": 4,
  "nbformat_minor": 0,
  "metadata": {
    "colab": {
      "name": "11 enero.ipynb",
      "provenance": [],
      "authorship_tag": "ABX9TyPFCopIhROfp8uIVv64G0IH",
      "include_colab_link": true
    },
    "kernelspec": {
      "name": "python3",
      "display_name": "Python 3"
    }
  },
  "cells": [
    {
      "cell_type": "markdown",
      "metadata": {
        "id": "view-in-github",
        "colab_type": "text"
      },
      "source": [
        "<a href=\"https://colab.research.google.com/github/aislinngo/daa_2021_1/blob/master/11_enero.ipynb\" target=\"_parent\"><img src=\"https://colab.research.google.com/assets/colab-badge.svg\" alt=\"Open In Colab\"/></a>"
      ]
    },
    {
      "cell_type": "code",
      "metadata": {
        "id": "CCfE3PC96eSJ"
      },
      "source": [
        "class NodoArbol:\r\n",
        "    def __init__(self, value, left=None, right=None):\r\n",
        "        self.data = value\r\n",
        "        self.left = left\r\n",
        "        self.right = right"
      ],
      "execution_count": 21,
      "outputs": []
    },
    {
      "cell_type": "code",
      "metadata": {
        "id": "CXMMq9SD8TQy"
      },
      "source": [
        "arbol = NodoArbol(\"R\", NodoArbol(\"C\"), NodoArbol(\"H\"))"
      ],
      "execution_count": 25,
      "outputs": []
    },
    {
      "cell_type": "code",
      "metadata": {
        "id": "F8Y3rQf99urP"
      },
      "source": [
        "nodo1 = NodoArbol(\"C\")\r\n",
        "nodo2 = NodoArbol(\"H\")\r\n",
        "arbol_v2 = NodoArbol(\"R\", nodo1, nodo2)"
      ],
      "execution_count": 26,
      "outputs": []
    },
    {
      "cell_type": "code",
      "metadata": {
        "colab": {
          "base_uri": "https://localhost:8080/"
        },
        "id": "zVJAa_XF-Lz-",
        "outputId": "db507a00-2e9d-4090-8f50-c6be9108a2e5"
      },
      "source": [
        "print(arbol.right.data)\r\n",
        "print(arbol_v2.right.data)"
      ],
      "execution_count": 27,
      "outputs": [
        {
          "output_type": "stream",
          "text": [
            "H\n",
            "H\n"
          ],
          "name": "stdout"
        }
      ]
    },
    {
      "cell_type": "code",
      "metadata": {
        "colab": {
          "base_uri": "https://localhost:8080/"
        },
        "id": "9qSibd9I_EI6",
        "outputId": "1f5da30d-80f7-4b66-d60f-903933ae3abc"
      },
      "source": [
        "arbol2= NodoArbol(4, NodoArbol(3, NodoArbol(2, NodoArbol(2))), NodoArbol(5, None, None))\r\n",
        "print(arbol2.left.left.data)\r\n"
      ],
      "execution_count": 32,
      "outputs": [
        {
          "output_type": "stream",
          "text": [
            "2\n"
          ],
          "name": "stdout"
        }
      ]
    },
    {
      "cell_type": "code",
      "metadata": {
        "colab": {
          "base_uri": "https://localhost:8080/"
        },
        "id": "dU_DKYh8EMWg",
        "outputId": "88f2787d-ac20-44e3-d92e-f896c6797b75"
      },
      "source": [
        "aux = arbol2\r\n",
        "while aux.left != None:\r\n",
        "    aux= aux.left\r\n",
        "\r\n",
        "print(aux.data)"
      ],
      "execution_count": 35,
      "outputs": [
        {
          "output_type": "stream",
          "text": [
            "2\n"
          ],
          "name": "stdout"
        }
      ]
    },
    {
      "cell_type": "code",
      "metadata": {
        "colab": {
          "base_uri": "https://localhost:8080/"
        },
        "id": "24_aOHO8En4i",
        "outputId": "14e1978f-1735-429e-97f3-b5e11ebb9399"
      },
      "source": [
        "arbol3 = NodoArbol(\"Santi\", None, NodoArbol(\"Jesus\", NodoArbol(\"Pedro\", None, NodoArbol(\"Diana\")), None))\r\n",
        "print(arbol3.right.left.right.data)"
      ],
      "execution_count": 38,
      "outputs": [
        {
          "output_type": "stream",
          "text": [
            "Diana\n"
          ],
          "name": "stdout"
        }
      ]
    }
  ]
}